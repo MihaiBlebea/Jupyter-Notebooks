{
 "cells": [
  {
   "cell_type": "markdown",
   "metadata": {},
   "source": [
    "# Concatenate and transform data"
   ]
  },
  {
   "cell_type": "code",
   "execution_count": 1,
   "metadata": {},
   "outputs": [
    {
     "name": "stdout",
     "output_type": "stream",
     "text": [
      "  first name last name age  gender\n",
      "0     Serban    Blebea  28    male\n",
      "1       Alex      Popa  33    male\n",
      "2   Cristina    Aliman  32  female\n",
      "3     Florin    Aliman  38    male\n",
      "              job      hobby\n",
      "0       developer     coding\n",
      "1      freelancer  traveling\n",
      "2     media buyer  batminton\n",
      "3  selles manager        eat\n"
     ]
    }
   ],
   "source": [
    "import pandas as pd\n",
    "import numpy as np\n",
    "\n",
    "from pandas import Series, DataFrame\n",
    "\n",
    "df_users = DataFrame({\n",
    "    'first name': ['Serban', 'Alex', 'Cristina', 'Florin'],\n",
    "    'last name': ['Blebea', 'Popa', 'Aliman', 'Aliman'],\n",
    "    'age': ['28', '33', '32', '38'],\n",
    "    'gender': ['male', 'male', 'female', 'male']\n",
    "})\n",
    "\n",
    "df_details = DataFrame({\n",
    "    'job': ['developer', 'freelancer', 'media buyer', 'selles manager'],\n",
    "    'hobby': ['coding', 'traveling', 'batminton', 'eat']\n",
    "})\n",
    "\n",
    "print(df_users)\n",
    "print(df_details)"
   ]
  },
  {
   "cell_type": "markdown",
   "metadata": {},
   "source": [
    "### Concatenate 2 DataFrame tables"
   ]
  },
  {
   "cell_type": "code",
   "execution_count": 2,
   "metadata": {},
   "outputs": [
    {
     "name": "stdout",
     "output_type": "stream",
     "text": [
      "  first name last name age  gender             job      hobby\n",
      "0     Serban    Blebea  28    male       developer     coding\n",
      "1       Alex      Popa  33    male      freelancer  traveling\n",
      "2   Cristina    Aliman  32  female     media buyer  batminton\n",
      "3     Florin    Aliman  38    male  selles manager        eat\n"
     ]
    }
   ],
   "source": [
    "new_concat_df = pd.concat([df_users, df_details], axis=1)\n",
    "print(new_concat_df)"
   ]
  },
  {
   "cell_type": "markdown",
   "metadata": {},
   "source": [
    "### Drop columns from DataFrame"
   ]
  },
  {
   "cell_type": "code",
   "execution_count": 3,
   "metadata": {},
   "outputs": [
    {
     "name": "stdout",
     "output_type": "stream",
     "text": [
      "  last name age  gender\n",
      "0    Blebea  28    male\n",
      "1      Popa  33    male\n",
      "2    Aliman  32  female\n",
      "3    Aliman  38    male\n"
     ]
    }
   ],
   "source": [
    "no_first_name_df = df_users.drop(['first name'], axis=1)\n",
    "print(no_first_name_df)"
   ]
  },
  {
   "cell_type": "markdown",
   "metadata": {},
   "source": [
    "### Add data to DataFrame"
   ]
  },
  {
   "cell_type": "code",
   "execution_count": 4,
   "metadata": {},
   "outputs": [
    {
     "name": "stdout",
     "output_type": "stream",
     "text": [
      "0    0\n",
      "1    1\n",
      "2    2\n",
      "3    3\n",
      "4    4\n",
      "5    5\n",
      "Name: range, dtype: int64\n"
     ]
    }
   ],
   "source": [
    "series = Series(np.arange(6))\n",
    "series.name = 'range'\n",
    "print(series)"
   ]
  },
  {
   "cell_type": "code",
   "execution_count": 5,
   "metadata": {},
   "outputs": [
    {
     "name": "stdout",
     "output_type": "stream",
     "text": [
      "  first name last name age  gender  range\n",
      "0     Serban    Blebea  28    male      0\n",
      "1       Alex      Popa  33    male      1\n",
      "2   Cristina    Aliman  32  female      2\n",
      "3     Florin    Aliman  38    male      3\n"
     ]
    }
   ],
   "source": [
    "joined_df = DataFrame.join(df_users, series)\n",
    "print(joined_df)"
   ]
  },
  {
   "cell_type": "code",
   "execution_count": 6,
   "metadata": {},
   "outputs": [
    {
     "name": "stdout",
     "output_type": "stream",
     "text": [
      "0    0\n",
      "1    1\n",
      "2    2\n",
      "3    3\n",
      "4    4\n",
      "5    5\n",
      "0    0\n",
      "1    1\n",
      "2    2\n",
      "3    3\n",
      "4    4\n",
      "5    5\n",
      "Name: range, dtype: int64\n"
     ]
    }
   ],
   "source": [
    "joined_df = series.append(series, ignore_index=False)\n",
    "print(joined_df)"
   ]
  },
  {
   "cell_type": "markdown",
   "metadata": {},
   "source": [
    "### Sort data in DataFrame by column"
   ]
  },
  {
   "cell_type": "code",
   "execution_count": 7,
   "metadata": {},
   "outputs": [
    {
     "name": "stdout",
     "output_type": "stream",
     "text": [
      "  first name last name age  gender\n",
      "2   Cristina    Aliman  32  female\n",
      "3     Florin    Aliman  38    male\n",
      "0     Serban    Blebea  28    male\n",
      "1       Alex      Popa  33    male\n"
     ]
    }
   ],
   "source": [
    "sorted_df = df_users.sort_values(by='last name', ascending=True)\n",
    "print(sorted_df)"
   ]
  },
  {
   "cell_type": "markdown",
   "metadata": {},
   "source": [
    "### Group data in DataFrame by column"
   ]
  },
  {
   "cell_type": "code",
   "execution_count": 8,
   "metadata": {},
   "outputs": [
    {
     "name": "stdout",
     "output_type": "stream",
     "text": [
      "<pandas.core.groupby.groupby.DataFrameGroupBy object at 0x10abcfc18>\n"
     ]
    }
   ],
   "source": [
    "grouped_df = df_users.groupby(df_users['gender'])\n",
    "print(grouped_df)"
   ]
  }
 ],
 "metadata": {
  "kernelspec": {
   "display_name": "Python 3",
   "language": "python",
   "name": "python3"
  },
  "language_info": {
   "codemirror_mode": {
    "name": "ipython",
    "version": 3
   },
   "file_extension": ".py",
   "mimetype": "text/x-python",
   "name": "python",
   "nbconvert_exporter": "python",
   "pygments_lexer": "ipython3",
   "version": "3.7.0"
  }
 },
 "nbformat": 4,
 "nbformat_minor": 2
}
