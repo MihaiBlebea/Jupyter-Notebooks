{
 "cells": [
  {
   "cell_type": "markdown",
   "metadata": {},
   "source": [
    "## Manipulate data with Numpy and Pandas"
   ]
  },
  {
   "cell_type": "markdown",
   "metadata": {},
   "source": [
    "### Create a Series of 4 rows and 2 columns with row index"
   ]
  },
  {
   "cell_type": "code",
   "execution_count": 1,
   "metadata": {},
   "outputs": [
    {
     "name": "stdout",
     "output_type": "stream",
     "text": [
      "row 1    0\n",
      "row 2    1\n",
      "row 3    2\n",
      "row 4    3\n",
      "dtype: int64\n"
     ]
    }
   ],
   "source": [
    "import pandas as pd\n",
    "import numpy as np\n",
    "\n",
    "from pandas import Series, DataFrame\n",
    "\n",
    "serie = Series(np.arange(4), index=['row 1', 'row 2', 'row 3', 'row 4'])\n",
    "print(serie)"
   ]
  },
  {
   "cell_type": "markdown",
   "metadata": {},
   "source": [
    "### Create a DataFrame of 6 rows and 6 columns with rows and cols as labels"
   ]
  },
  {
   "cell_type": "code",
   "execution_count": 2,
   "metadata": {},
   "outputs": [
    {
     "name": "stdout",
     "output_type": "stream",
     "text": [
      "          col 1     col 2     col 3     col 4     col 5     col 6\n",
      "row 1  0.870124  0.582277  0.278839  0.185911  0.411100  0.117376\n",
      "row 2  0.684969  0.437611  0.556229  0.367080  0.402366  0.113041\n",
      "row 3  0.447031  0.585445  0.161985  0.520719  0.326051  0.699186\n",
      "row 4  0.366395  0.836375  0.481343  0.516502  0.383048  0.997541\n",
      "row 5  0.514244  0.559053  0.034450  0.719930  0.421004  0.436935\n",
      "row 6  0.281701  0.900274  0.669612  0.456069  0.289804  0.525819\n"
     ]
    }
   ],
   "source": [
    "# Seed to get the same results everytime you run the code\n",
    "np.random.seed(25)\n",
    "\n",
    "df = DataFrame(np.random.rand(36).reshape(6,6), index=['row 1', 'row 2', 'row 3', 'row 4', 'row 5', 'row 6'], columns=['col 1', 'col 2', 'col 3', 'col 4', 'col 5', 'col 6'])\n",
    "print(df)"
   ]
  },
  {
   "cell_type": "markdown",
   "metadata": {},
   "source": [
    "### Get a slice of the DataFrame specified by the columns and rows that you want to get"
   ]
  },
  {
   "cell_type": "code",
   "execution_count": 3,
   "metadata": {
    "scrolled": false
   },
   "outputs": [
    {
     "name": "stdout",
     "output_type": "stream",
     "text": [
      "          col 1     col 2\n",
      "row 1  0.870124  0.582277\n",
      "row 2  0.684969  0.437611\n"
     ]
    }
   ],
   "source": [
    "slice_df = df.loc[['row 1', 'row 2'], ['col 1', 'col 2']]\n",
    "print(slice_df)"
   ]
  },
  {
   "cell_type": "markdown",
   "metadata": {},
   "source": [
    "### Get a slice of the DataFrame by setting a row and column and get all data in between"
   ]
  },
  {
   "cell_type": "code",
   "execution_count": 4,
   "metadata": {
    "scrolled": true
   },
   "outputs": [
    {
     "name": "stdout",
     "output_type": "stream",
     "text": [
      "          col 1     col 2     col 3     col 4     col 5     col 6\n",
      "row 2  0.684969  0.437611  0.556229  0.367080  0.402366  0.113041\n",
      "row 3  0.447031  0.585445  0.161985  0.520719  0.326051  0.699186\n",
      "row 4  0.366395  0.836375  0.481343  0.516502  0.383048  0.997541\n",
      "row 5  0.514244  0.559053  0.034450  0.719930  0.421004  0.436935\n"
     ]
    }
   ],
   "source": [
    "between_df = df['row 2':'row 5']\n",
    "print(between_df)"
   ]
  },
  {
   "cell_type": "markdown",
   "metadata": {},
   "source": [
    "### Use numerical value to compare DataFrame and get DataFrame of result"
   ]
  },
  {
   "cell_type": "code",
   "execution_count": 5,
   "metadata": {
    "scrolled": true
   },
   "outputs": [
    {
     "name": "stdout",
     "output_type": "stream",
     "text": [
      "       col 1  col 2  col 3  col 4  col 5  col 6\n",
      "row 1  False  False  False   True  False   True\n",
      "row 2  False  False  False  False  False   True\n",
      "row 3  False  False   True  False  False  False\n",
      "row 4  False  False  False  False  False  False\n",
      "row 5  False  False   True  False  False  False\n",
      "row 6  False  False  False  False  False  False\n"
     ]
    }
   ],
   "source": [
    "compare_df = df < 0.2\n",
    "print(compare_df)"
   ]
  },
  {
   "cell_type": "markdown",
   "metadata": {},
   "source": [
    "### Filter DataFrame with numerical value"
   ]
  },
  {
   "cell_type": "code",
   "execution_count": 6,
   "metadata": {},
   "outputs": [
    {
     "name": "stdout",
     "output_type": "stream",
     "text": [
      "       col 1  col 2     col 3     col 4  col 5     col 6\n",
      "row 1    NaN    NaN       NaN  0.185911    NaN  0.117376\n",
      "row 2    NaN    NaN       NaN       NaN    NaN  0.113041\n",
      "row 3    NaN    NaN  0.161985       NaN    NaN       NaN\n",
      "row 4    NaN    NaN       NaN       NaN    NaN       NaN\n",
      "row 5    NaN    NaN  0.034450       NaN    NaN       NaN\n",
      "row 6    NaN    NaN       NaN       NaN    NaN       NaN\n"
     ]
    }
   ],
   "source": [
    "compare_filter_df = df[ df < 0.2 ]\n",
    "print(compare_filter_df)"
   ]
  },
  {
   "cell_type": "markdown",
   "metadata": {},
   "source": [
    "### Filter Series with numerical value"
   ]
  },
  {
   "cell_type": "code",
   "execution_count": 7,
   "metadata": {
    "scrolled": true
   },
   "outputs": [
    {
     "name": "stdout",
     "output_type": "stream",
     "text": [
      "row 1    0\n",
      "row 2    1\n",
      "row 3    2\n",
      "row 4    3\n",
      "dtype: int64\n"
     ]
    }
   ],
   "source": [
    "compare_filter_serie = serie[ serie < 4]\n",
    "print(compare_filter_serie)"
   ]
  },
  {
   "cell_type": "markdown",
   "metadata": {},
   "source": [
    "### Set Series rows equal to numerical value or string"
   ]
  },
  {
   "cell_type": "code",
   "execution_count": 8,
   "metadata": {},
   "outputs": [
    {
     "name": "stdout",
     "output_type": "stream",
     "text": [
      "row 1    Serban\n",
      "row 2    Serban\n",
      "row 3    Serban\n",
      "row 4         3\n",
      "dtype: object\n"
     ]
    }
   ],
   "source": [
    "new_serie = serie['row 2', 'row 1', 'row 3'] = 'Serban'\n",
    "print(serie)"
   ]
  },
  {
   "cell_type": "markdown",
   "metadata": {},
   "source": [
    "### Clone DataFrame (do not assign to new variable)"
   ]
  },
  {
   "cell_type": "code",
   "execution_count": 9,
   "metadata": {},
   "outputs": [
    {
     "name": "stdout",
     "output_type": "stream",
     "text": [
      "          col 1     col 2     col 3     col 4     col 5     col 6\n",
      "row 1  0.870124  0.582277  0.278839  0.185911  0.411100  0.117376\n",
      "row 2  0.684969  0.437611  0.556229  0.367080  0.402366  0.113041\n",
      "row 3  0.447031  0.585445  0.161985  0.520719  0.326051  0.699186\n",
      "row 4  0.366395  0.836375  0.481343  0.516502  0.383048  0.997541\n",
      "row 5  0.514244  0.559053  0.034450  0.719930  0.421004  0.436935\n",
      "row 6  0.281701  0.900274  0.669612  0.456069  0.289804  0.525819\n"
     ]
    }
   ],
   "source": [
    "new_df = df.copy()\n",
    "print(new_df)"
   ]
  },
  {
   "cell_type": "markdown",
   "metadata": {},
   "source": [
    "### Set DataFrame cells equal to numerical value or string"
   ]
  },
  {
   "cell_type": "code",
   "execution_count": 10,
   "metadata": {},
   "outputs": [
    {
     "name": "stdout",
     "output_type": "stream",
     "text": [
      "          col 1     col 2     col 3     col 4     col 5     col 6\n",
      "row 1     Mihai    Serban  0.278839  0.185911  0.411100  0.117376\n",
      "row 2     Mihai    Serban  0.556229  0.367080  0.402366  0.113041\n",
      "row 3     Mihai    Serban  0.161985  0.520719  0.326051  0.699186\n",
      "row 4     Mihai  0.836375  0.481343  0.516502  0.383048  0.997541\n",
      "row 5  0.514244  0.559053  0.034450  0.719930  0.421004  0.436935\n",
      "row 6  0.281701  0.900274  0.669612  0.456069  0.289804  0.525819\n"
     ]
    }
   ],
   "source": [
    "new_df.loc[0:3, 'col 2'] = 'Serban'\n",
    "new_df.loc['row 1':'row 4', 'col 1'] = 'Mihai'\n",
    "print(new_df)"
   ]
  },
  {
   "cell_type": "markdown",
   "metadata": {},
   "source": [
    "### Transform Series to DataFrame"
   ]
  },
  {
   "cell_type": "code",
   "execution_count": 11,
   "metadata": {},
   "outputs": [
    {
     "name": "stdout",
     "output_type": "stream",
     "text": [
      "        col 1\n",
      "row 1  Serban\n",
      "row 2  Serban\n",
      "row 3  Serban\n",
      "row 4       3\n"
     ]
    }
   ],
   "source": [
    "transformed_serie = serie.to_frame(name='col 1')\n",
    "print(transformed_serie)"
   ]
  },
  {
   "cell_type": "markdown",
   "metadata": {},
   "source": [
    "### Transform DataFrame to Series"
   ]
  },
  {
   "cell_type": "code",
   "execution_count": 12,
   "metadata": {},
   "outputs": [
    {
     "name": "stdout",
     "output_type": "stream",
     "text": [
      "col 1    0.870124\n",
      "col 2    0.582277\n",
      "col 3    0.278839\n",
      "col 4    0.185911\n",
      "col 5    0.411100\n",
      "col 6    0.117376\n",
      "Name: row 1, dtype: float64\n"
     ]
    }
   ],
   "source": [
    "transformed_df = df.iloc[0]\n",
    "print(transformed_df)"
   ]
  }
 ],
 "metadata": {
  "kernelspec": {
   "display_name": "Python 3",
   "language": "python",
   "name": "python3"
  },
  "language_info": {
   "codemirror_mode": {
    "name": "ipython",
    "version": 3
   },
   "file_extension": ".py",
   "mimetype": "text/x-python",
   "name": "python",
   "nbconvert_exporter": "python",
   "pygments_lexer": "ipython3",
   "version": "3.7.0"
  }
 },
 "nbformat": 4,
 "nbformat_minor": 2
}
