{
 "cells": [
  {
   "cell_type": "markdown",
   "metadata": {},
   "source": [
    "# Deal with missing values"
   ]
  },
  {
   "cell_type": "code",
   "execution_count": 1,
   "metadata": {},
   "outputs": [],
   "source": [
    "import numpy as np\n",
    "import pandas as pd\n",
    "\n",
    "from pandas import Series, DataFrame"
   ]
  },
  {
   "cell_type": "markdown",
   "metadata": {},
   "source": [
    "### Generate Series with missing values"
   ]
  },
  {
   "cell_type": "code",
   "execution_count": 2,
   "metadata": {},
   "outputs": [
    {
     "name": "stdout",
     "output_type": "stream",
     "text": [
      "0    row 1\n",
      "1    row 2\n",
      "2      NaN\n",
      "3    row 4\n",
      "4    row 5\n",
      "dtype: object\n"
     ]
    }
   ],
   "source": [
    "missing = np.nan\n",
    "\n",
    "series = Series(['row 1', 'row 2', missing, 'row 4', 'row 5'])\n",
    "print(series)"
   ]
  },
  {
   "cell_type": "markdown",
   "metadata": {},
   "source": [
    "### Find missing values by comparing Series"
   ]
  },
  {
   "cell_type": "code",
   "execution_count": 3,
   "metadata": {},
   "outputs": [
    {
     "name": "stdout",
     "output_type": "stream",
     "text": [
      "0    False\n",
      "1    False\n",
      "2     True\n",
      "3    False\n",
      "4    False\n",
      "dtype: bool\n"
     ]
    }
   ],
   "source": [
    "compare_null = series.isnull()\n",
    "print(compare_null)"
   ]
  },
  {
   "cell_type": "markdown",
   "metadata": {},
   "source": [
    "### Generate DataFrame with missing values and fill them in"
   ]
  },
  {
   "cell_type": "code",
   "execution_count": 4,
   "metadata": {},
   "outputs": [
    {
     "name": "stdout",
     "output_type": "stream",
     "text": [
      "          col 1     col 2     col 3     col 4     col 5     col 6\n",
      "row 1  0.870124  0.582277  0.278839  0.185911  0.411100  0.117376\n",
      "row 2  0.684969  0.437611  0.556229  0.367080  0.402366  0.113041\n",
      "row 3  0.447031  0.585445  0.161985  0.520719  0.326051  0.699186\n",
      "row 4  0.366395  0.836375  0.481343  0.516502  0.383048  0.997541\n",
      "row 5  0.514244  0.559053  0.034450  0.719930  0.421004  0.436935\n",
      "row 6  0.281701  0.900274  0.669612  0.456069  0.289804  0.525819\n"
     ]
    }
   ],
   "source": [
    "np.random.seed(25)\n",
    "\n",
    "df = DataFrame(np.random.rand(36).reshape(6,6), index=['row 1', 'row 2', 'row 3', 'row 4', 'row 5', 'row 6'], columns=['col 1', 'col 2', 'col 3', 'col 4', 'col 5', 'col 6'])\n",
    "\n",
    "print(df)"
   ]
  },
  {
   "cell_type": "markdown",
   "metadata": {},
   "source": [
    "### Replace some cells with missing values"
   ]
  },
  {
   "cell_type": "code",
   "execution_count": 5,
   "metadata": {},
   "outputs": [
    {
     "name": "stdout",
     "output_type": "stream",
     "text": [
      "          col 1     col 2     col 3     col 4     col 5     col 6\n",
      "row 1  0.870124  0.582277  0.278839  0.185911  0.411100  0.117376\n",
      "row 2  0.684969  0.437611       NaN  0.367080  0.402366  0.113041\n",
      "row 3  0.447031  0.585445       NaN  0.520719  0.326051       NaN\n",
      "row 4  0.366395  0.836375       NaN  0.516502  0.383048       NaN\n",
      "row 5  0.514244  0.559053       NaN  0.719930  0.421004       NaN\n",
      "row 6  0.281701  0.900274  0.669612  0.456069  0.289804       NaN\n"
     ]
    }
   ],
   "source": [
    "df.loc['row 2':'row 5', 'col 3'] = missing\n",
    "df.loc['row 3':'row 6', 'col 6'] = missing\n",
    "print(df)"
   ]
  },
  {
   "cell_type": "markdown",
   "metadata": {},
   "source": [
    "### Fill missing values (NaN) with value 0"
   ]
  },
  {
   "cell_type": "code",
   "execution_count": 6,
   "metadata": {},
   "outputs": [
    {
     "name": "stdout",
     "output_type": "stream",
     "text": [
      "          col 1     col 2     col 3     col 4     col 5     col 6\n",
      "row 1  0.870124  0.582277  0.278839  0.185911  0.411100  0.117376\n",
      "row 2  0.684969  0.437611  0.000000  0.367080  0.402366  0.113041\n",
      "row 3  0.447031  0.585445  0.000000  0.520719  0.326051  0.000000\n",
      "row 4  0.366395  0.836375  0.000000  0.516502  0.383048  0.000000\n",
      "row 5  0.514244  0.559053  0.000000  0.719930  0.421004  0.000000\n",
      "row 6  0.281701  0.900274  0.669612  0.456069  0.289804  0.000000\n"
     ]
    }
   ],
   "source": [
    "filled_df = df.fillna(0)\n",
    "print(filled_df)"
   ]
  },
  {
   "cell_type": "markdown",
   "metadata": {},
   "source": [
    "### Fill missing values (NaN) with specific values for every column"
   ]
  },
  {
   "cell_type": "code",
   "execution_count": 7,
   "metadata": {},
   "outputs": [
    {
     "name": "stdout",
     "output_type": "stream",
     "text": [
      "          col 1     col 2     col 3     col 4     col 5     col 6\n",
      "row 1  0.870124  0.582277  0.278839  0.185911  0.411100  0.117376\n",
      "row 2  0.684969  0.437611  0.250000  0.367080  0.402366  0.113041\n",
      "row 3  0.447031  0.585445  0.250000  0.520719  0.326051  0.330000\n",
      "row 4  0.366395  0.836375  0.250000  0.516502  0.383048  0.330000\n",
      "row 5  0.514244  0.559053  0.250000  0.719930  0.421004  0.330000\n",
      "row 6  0.281701  0.900274  0.669612  0.456069  0.289804  0.330000\n"
     ]
    }
   ],
   "source": [
    "filled_df = df.fillna({ 'col 3' : 0.25, 'col 6' : 0.33 })\n",
    "print(filled_df)"
   ]
  },
  {
   "cell_type": "markdown",
   "metadata": {},
   "source": [
    "### Fill missing values (NaN) with the results from a function (method)"
   ]
  },
  {
   "cell_type": "code",
   "execution_count": 8,
   "metadata": {},
   "outputs": [
    {
     "name": "stdout",
     "output_type": "stream",
     "text": [
      "          col 1     col 2     col 3     col 4     col 5     col 6\n",
      "row 1  0.870124  0.582277  0.278839  0.185911  0.411100  0.117376\n",
      "row 2  0.684969  0.437611  0.278839  0.367080  0.402366  0.113041\n",
      "row 3  0.447031  0.585445  0.278839  0.520719  0.326051  0.113041\n",
      "row 4  0.366395  0.836375  0.278839  0.516502  0.383048  0.113041\n",
      "row 5  0.514244  0.559053  0.278839  0.719930  0.421004  0.113041\n",
      "row 6  0.281701  0.900274  0.669612  0.456069  0.289804  0.113041\n"
     ]
    }
   ],
   "source": [
    "forward_filled_df = df.fillna(method='ffill')\n",
    "print(forward_filled_df)"
   ]
  },
  {
   "cell_type": "markdown",
   "metadata": {},
   "source": [
    "### Count missing values (NaN)"
   ]
  },
  {
   "cell_type": "code",
   "execution_count": 9,
   "metadata": {},
   "outputs": [
    {
     "name": "stdout",
     "output_type": "stream",
     "text": [
      "col 1    0\n",
      "col 2    0\n",
      "col 3    4\n",
      "col 4    0\n",
      "col 5    0\n",
      "col 6    4\n",
      "dtype: int64\n",
      "Total number of missing values is 8\n",
      "Total missing 8\n"
     ]
    }
   ],
   "source": [
    "count_missing = df.isnull().sum()\n",
    "print(count_missing)\n",
    "\n",
    "total_missing = df.isnull().sum().sum()\n",
    "print('Total number of missing values is ' + str(total_missing))\n",
    "\n",
    "total_missing_short = count_missing.sum()\n",
    "print('Total missing ' + str(total_missing_short))"
   ]
  },
  {
   "cell_type": "markdown",
   "metadata": {},
   "source": [
    "### Drop rows that contain missing values (NaN)"
   ]
  },
  {
   "cell_type": "code",
   "execution_count": 10,
   "metadata": {},
   "outputs": [
    {
     "name": "stdout",
     "output_type": "stream",
     "text": [
      "          col 1     col 2     col 3     col 4   col 5     col 6\n",
      "row 1  0.870124  0.582277  0.278839  0.185911  0.4111  0.117376\n"
     ]
    }
   ],
   "source": [
    "no_null_df = df.dropna()\n",
    "print(no_null_df)"
   ]
  },
  {
   "cell_type": "markdown",
   "metadata": {},
   "source": [
    "### Drop cols that contain missing values (NaN)"
   ]
  },
  {
   "cell_type": "code",
   "execution_count": 11,
   "metadata": {},
   "outputs": [
    {
     "name": "stdout",
     "output_type": "stream",
     "text": [
      "          col 1     col 2     col 4     col 5\n",
      "row 1  0.870124  0.582277  0.185911  0.411100\n",
      "row 2  0.684969  0.437611  0.367080  0.402366\n",
      "row 3  0.447031  0.585445  0.520719  0.326051\n",
      "row 4  0.366395  0.836375  0.516502  0.383048\n",
      "row 5  0.514244  0.559053  0.719930  0.421004\n",
      "row 6  0.281701  0.900274  0.456069  0.289804\n"
     ]
    }
   ],
   "source": [
    "no_null_df = df.dropna(axis=1)\n",
    "print(no_null_df)"
   ]
  },
  {
   "cell_type": "markdown",
   "metadata": {},
   "source": [
    "### Drop rows that contain ALL missing values (NaN)"
   ]
  },
  {
   "cell_type": "code",
   "execution_count": 12,
   "metadata": {},
   "outputs": [
    {
     "name": "stdout",
     "output_type": "stream",
     "text": [
      "          col 1     col 2     col 3     col 4     col 5     col 6\n",
      "row 1  0.870124  0.582277  0.278839  0.185911  0.411100  0.117376\n",
      "row 2  0.684969  0.437611       NaN  0.367080  0.402366  0.113041\n",
      "row 3  0.447031  0.585445       NaN  0.520719  0.326051       NaN\n",
      "row 4  0.366395  0.836375       NaN  0.516502  0.383048       NaN\n",
      "row 5  0.514244  0.559053       NaN  0.719930  0.421004       NaN\n",
      "row 6  0.281701  0.900274  0.669612  0.456069  0.289804       NaN\n"
     ]
    }
   ],
   "source": [
    "no_null_df = df.dropna(how='all')\n",
    "print(no_null_df)"
   ]
  },
  {
   "cell_type": "code",
   "execution_count": 13,
   "metadata": {},
   "outputs": [
    {
     "name": "stdout",
     "output_type": "stream",
     "text": [
      "          col 1     col 2     col 3     col 4     col 5     col 6\n",
      "row 1  0.870124  0.582277  0.278839  0.185911  0.411100  0.117376\n",
      "row 3  0.447031  0.585445       NaN  0.520719  0.326051       NaN\n",
      "row 4  0.366395  0.836375       NaN  0.516502  0.383048       NaN\n",
      "row 5  0.514244  0.559053       NaN  0.719930  0.421004       NaN\n",
      "row 6  0.281701  0.900274  0.669612  0.456069  0.289804       NaN\n"
     ]
    }
   ],
   "source": [
    "df.loc['row 2', 'col 1':'col 6'] = missing\n",
    "no_null_df = df.dropna(how='all')\n",
    "print(no_null_df)"
   ]
  }
 ],
 "metadata": {
  "kernelspec": {
   "display_name": "Python 3",
   "language": "python",
   "name": "python3"
  },
  "language_info": {
   "codemirror_mode": {
    "name": "ipython",
    "version": 3
   },
   "file_extension": ".py",
   "mimetype": "text/x-python",
   "name": "python",
   "nbconvert_exporter": "python",
   "pygments_lexer": "ipython3",
   "version": "3.7.0"
  }
 },
 "nbformat": 4,
 "nbformat_minor": 2
}
