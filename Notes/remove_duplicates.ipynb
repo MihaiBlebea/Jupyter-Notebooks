{
 "cells": [
  {
   "cell_type": "markdown",
   "metadata": {},
   "source": [
    "# Remove duplicate entries"
   ]
  },
  {
   "cell_type": "code",
   "execution_count": 1,
   "metadata": {},
   "outputs": [],
   "source": [
    "import numpy as np\n",
    "import pandas as pd\n",
    "\n",
    "from pandas import Series, DataFrame"
   ]
  },
  {
   "cell_type": "markdown",
   "metadata": {},
   "source": [
    "### Create DataFrame from dictionary"
   ]
  },
  {
   "cell_type": "code",
   "execution_count": 2,
   "metadata": {},
   "outputs": [
    {
     "name": "stdout",
     "output_type": "stream",
     "text": [
      "     name  zip code age\n",
      "0  Serban  NW11_7HW  28\n",
      "1    Alex  NW11_7HW  32\n",
      "2    Alex  NW11_7HW  32\n"
     ]
    }
   ],
   "source": [
    "df = DataFrame({\n",
    "    'name': ['Serban', 'Alex', 'Alex'], \n",
    "    'zip code': ['NW11_7HW', 'NW11_7HW', 'NW11_7HW'], \n",
    "    'age': ['28', '32', '32']\n",
    "})\n",
    "print(df)"
   ]
  },
  {
   "cell_type": "markdown",
   "metadata": {},
   "source": [
    "### Search and compare for duplicate value entry"
   ]
  },
  {
   "cell_type": "code",
   "execution_count": 3,
   "metadata": {},
   "outputs": [
    {
     "name": "stdout",
     "output_type": "stream",
     "text": [
      "0    False\n",
      "1    False\n",
      "2     True\n",
      "dtype: bool\n"
     ]
    }
   ],
   "source": [
    "compare_duplicate_df = df.duplicated()\n",
    "print(compare_duplicate_df)"
   ]
  },
  {
   "cell_type": "markdown",
   "metadata": {},
   "source": [
    "### Drop duplicate entry (row)"
   ]
  },
  {
   "cell_type": "code",
   "execution_count": 4,
   "metadata": {},
   "outputs": [
    {
     "name": "stdout",
     "output_type": "stream",
     "text": [
      "     name  zip code age\n",
      "0  Serban  NW11_7HW  28\n",
      "1    Alex  NW11_7HW  32\n"
     ]
    }
   ],
   "source": [
    "no_duplicates_df = df.drop_duplicates()\n",
    "print(no_duplicates_df)"
   ]
  },
  {
   "cell_type": "markdown",
   "metadata": {},
   "source": [
    "### Drop duplicate entry (row) if one column is the same"
   ]
  },
  {
   "cell_type": "code",
   "execution_count": 5,
   "metadata": {},
   "outputs": [
    {
     "name": "stdout",
     "output_type": "stream",
     "text": [
      "       name  zip code age     sex\n",
      "0    Serban  NW11_7HW  28    male\n",
      "1      Alex  NW11_7HW  33    male\n",
      "2  Cristina  NW11_7HW  32  female\n"
     ]
    }
   ],
   "source": [
    "df = DataFrame({\n",
    "    'name': ['Serban', 'Alex', 'Cristina'], \n",
    "    'zip code': ['NW11_7HW', 'NW11_7HW', 'NW11_7HW'], \n",
    "    'age': ['28', '33', '32'], \n",
    "    'sex': ['male', 'male', 'female']\n",
    "})\n",
    "print(df)"
   ]
  },
  {
   "cell_type": "code",
   "execution_count": 6,
   "metadata": {},
   "outputs": [
    {
     "name": "stdout",
     "output_type": "stream",
     "text": [
      "       name  zip code age     sex\n",
      "0    Serban  NW11_7HW  28    male\n",
      "2  Cristina  NW11_7HW  32  female\n"
     ]
    }
   ],
   "source": [
    "no_duplicates_df = df.drop_duplicates('sex')\n",
    "print(no_duplicates_df)"
   ]
  }
 ],
 "metadata": {
  "kernelspec": {
   "display_name": "Python 3",
   "language": "python",
   "name": "python3"
  },
  "language_info": {
   "codemirror_mode": {
    "name": "ipython",
    "version": 3
   },
   "file_extension": ".py",
   "mimetype": "text/x-python",
   "name": "python",
   "nbconvert_exporter": "python",
   "pygments_lexer": "ipython3",
   "version": "3.7.0"
  }
 },
 "nbformat": 4,
 "nbformat_minor": 2
}
